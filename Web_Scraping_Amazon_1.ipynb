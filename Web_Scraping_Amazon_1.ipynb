{
  "nbformat": 4,
  "nbformat_minor": 0,
  "metadata": {
    "colab": {
      "provenance": []
    },
    "kernelspec": {
      "name": "python3",
      "display_name": "Python 3"
    },
    "language_info": {
      "name": "python"
    }
  },
  "cells": [
    {
      "cell_type": "code",
      "execution_count": null,
      "metadata": {
        "id": "cN0C0Y7SCtWS"
      },
      "outputs": [],
      "source": [
        "from bs4 import BeautifulSoup\n",
        "import requests\n",
        "import pandas as pd"
      ]
    },
    {
      "cell_type": "code",
      "source": [
        "#to extract product title\n",
        "def get_title(soup):\n",
        "  try:\n",
        "    title = soup.find(\"span\", attrs={\"id\":\"productTitle\"}).text.strip()\n",
        "\n",
        "  except:\n",
        "    title = \"\"\n",
        "\n",
        "  return title\n",
        "\n",
        "#to extract product review\n",
        "def get_review(soup):\n",
        "  try:\n",
        "    review = soup.find(\"span\",attrs={\"id\":\"acrCustomerReviewText\"}).string.strip()\n",
        "\n",
        "  except:\n",
        "    review = \"\"\n",
        "\n",
        "  return review\n",
        "\n",
        "#to extract product price\n",
        "def get_price(soup):\n",
        "  try:\n",
        "    price = price.find(\"span\",attrs={\"class\":\"a-price a-text-price a-size-medium apexPriceToPay\"}).find(\"span\",\"a-offscreen\").string.strip()\n",
        "\n",
        "  except:\n",
        "    price = \"\"\n",
        "\n",
        "  return price"
      ],
      "metadata": {
        "id": "499N6bIDC2pD"
      },
      "execution_count": null,
      "outputs": []
    },
    {
      "cell_type": "code",
      "source": [
        "if __name__ == \"__main__\":\n",
        "  #buat user agent\n",
        "  HEADERS = ({\"User-Agent\":\"Mozilla/5.0 (Windows NT 10.0; Win64; x64) AppleWebKit/537.36 (KHTML, like Gecko) Chrome/120.0.0.0 Safari/537.36\", \"Accept-Languange\": \"en-US, en;q=0.5\"})\n",
        "\n",
        "  #webpage url\n",
        "  URL = \"https://www.amazon.com/s?k=ps+5&crid=3T6KGJ4AOIXNZ&sprefix=ps+%2Caps%2C294&ref=nb_sb_noss_2\"\n",
        "\n",
        "  #HTTP requests\n",
        "  webpage = requests.get(URL, headers=HEADERS)\n"
      ],
      "metadata": {
        "id": "oZCvO7FXC7dk"
      },
      "execution_count": null,
      "outputs": []
    },
    {
      "cell_type": "code",
      "source": [
        "webpage"
      ],
      "metadata": {
        "colab": {
          "base_uri": "https://localhost:8080/"
        },
        "id": "JlilzT_sC-m8",
        "outputId": "24af2666-9695-4ae1-bad8-852add4220e7"
      },
      "execution_count": null,
      "outputs": [
        {
          "output_type": "execute_result",
          "data": {
            "text/plain": [
              "<Response [503]>"
            ]
          },
          "metadata": {},
          "execution_count": 8
        }
      ]
    }
  ]
}
